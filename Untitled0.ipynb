{
  "nbformat": 4,
  "nbformat_minor": 0,
  "metadata": {
    "colab": {
      "name": "Untitled0.ipynb",
      "provenance": [],
      "authorship_tag": "ABX9TyPB6HhrpckeIGLyaGVP1xVS",
      "include_colab_link": true
    },
    "kernelspec": {
      "name": "python3",
      "display_name": "Python 3"
    }
  },
  "cells": [
    {
      "cell_type": "markdown",
      "metadata": {
        "id": "view-in-github",
        "colab_type": "text"
      },
      "source": [
        "<a href=\"https://colab.research.google.com/github/uvsq22004173/tpl-python/blob/master/Untitled0.ipynb\" target=\"_parent\"><img src=\"https://colab.research.google.com/assets/colab-badge.svg\" alt=\"Open In Colab\"/></a>"
      ]
    },
    {
      "cell_type": "code",
      "metadata": {
        "id": "j2Kb3ZfslUnb",
        "outputId": "4be7ae50-de43-4dfb-922c-6d6fd739eea9",
        "colab": {
          "base_uri": "https://localhost:8080/"
        }
      },
      "source": [
        "num1 = 15\n",
        "num2 = 5\n",
        "if (num1 % num2 == 0):\n",
        "  print(\"factors!\")\n",
        "else:\n",
        "  print(\"not factors!\")"
      ],
      "execution_count": 10,
      "outputs": [
        {
          "output_type": "stream",
          "text": [
            "factors!\n"
          ],
          "name": "stdout"
        }
      ]
    },
    {
      "cell_type": "code",
      "metadata": {
        "id": "MvqM0uQumaSi",
        "outputId": "c66cd552-da1a-4c8f-de49-15278de920e0",
        "colab": {
          "base_uri": "https://localhost:8080/"
        }
      },
      "source": [
        "state = \"Georgia\"\n",
        "if (state == \"New Jersey\"):\n",
        "  print(\"School isn't cancelled.\")\n",
        "elif (state == \"North Carolina\"):\n",
        "  print(\"School is postponed.\")\n",
        "elif (state == \"Georgia\"):\n",
        "  print(\"School is cancelled!\")\n",
        "else:\n",
        "  print(\"School's status is unknown\")"
      ],
      "execution_count": 12,
      "outputs": [
        {
          "output_type": "stream",
          "text": [
            "School is cancelled!\n"
          ],
          "name": "stdout"
        }
      ]
    },
    {
      "cell_type": "code",
      "metadata": {
        "id": "nllLGdhWoOW2",
        "outputId": "69c40e22-09eb-4040-c37d-b31c7b086ed9",
        "colab": {
          "base_uri": "https://localhost:8080/"
        }
      },
      "source": [
        "print(\"Découvrez votre signe du zodiaque.\")\n",
        "a = input(\"Indiquer l'année à tester : \")\n",
        "if (int(a) % 12 == 0):\n",
        "  print(\"Monkey\")\n",
        "elif (int(a) % 12 == 1):\n",
        "  print(\"Rooster\")\n",
        "elif (int(a) % 12 == 2):\n",
        "  print(\"Dog\")\n",
        "elif (int(a) % 12 == 3):\n",
        "  print(\"Pig\")\n",
        "elif (int(a) % 12 == 4):\n",
        "  print(\"Rat\")\n",
        "elif (int(a) % 12 == 5):\n",
        "  print(\"Ox\")\n",
        "elif (int(a) % 12 == 6):\n",
        "  print(\"Tiger\")\n",
        "elif (int(a) % 12 == 7):\n",
        "  print(\"Rabbit\")\n",
        "elif (int(a) % 12 == 8):\n",
        "  print(\"Dragon\")\n",
        "elif (int(a) % 12 == 9):\n",
        "  print(\"Snake\")\n",
        "elif (int(a) % 12 == 10):\n",
        "  print(\"Horse\")\n",
        "elif (int(a) % 12 == 11):\n",
        "  print(\"Sheep\")\n",
        "\n"
      ],
      "execution_count": 13,
      "outputs": [
        {
          "output_type": "stream",
          "text": [
            "Découvrez votre signe du zodiaque.\n",
            "Indiquer l'année à tester : 2001\n",
            "Snake\n"
          ],
          "name": "stdout"
        }
      ]
    },
    {
      "cell_type": "code",
      "metadata": {
        "id": "ggs1j23fqpW-",
        "outputId": "6fe5ebad-3abf-4dd0-f3fa-1c27e1f62b82",
        "colab": {
          "base_uri": "https://localhost:8080/"
        }
      },
      "source": [
        "t = input(\"Insérer température : \")\n",
        "if (int(t)- <=0):\n",
        "  print(\"Freezing\")\n",
        "else:\n",
        "  print(\"Not freezing\")"
      ],
      "execution_count": 79,
      "outputs": [
        {
          "output_type": "stream",
          "text": [
            "Insérer température : 65\n",
            "Not freezing\n"
          ],
          "name": "stdout"
        }
      ]
    },
    {
      "cell_type": "code",
      "metadata": {
        "id": "KaJMlySertKX",
        "outputId": "80cd2ab0-e60a-4e47-d52b-9677c5a7c3e5",
        "colab": {
          "base_uri": "https://localhost:8080/"
        }
      },
      "source": [
        "t = input(\"Insérer température : \")\n",
        "if (int(t) <= 0):\n",
        "  print(\"En Celsius et en Fahrenheit, on considère qu'il fait froid.\")\n",
        "elif (0 <= int(t) <= 32):\n",
        "  print(\"En Celsius on considère qu'il fait chaud et en Farhenheit qu'il fait froid.\")\n",
        "else:\n",
        "  print(\"Il fait chaud.\")"
      ],
      "execution_count": 28,
      "outputs": [
        {
          "output_type": "stream",
          "text": [
            "Insérer température : 5\n",
            "En Celsius on considère qu'il fait chaud et en Farhenheit qu'il fait froid.\n"
          ],
          "name": "stdout"
        }
      ]
    },
    {
      "cell_type": "code",
      "metadata": {
        "id": "0NKqnoAwtN9u",
        "outputId": "ec6f1b1d-7467-4a17-d203-1af369b4f053",
        "colab": {
          "base_uri": "https://localhost:8080/"
        }
      },
      "source": [
        "r = input(\"Année : \")\n",
        "if (int(r) % 4 == 0 or int(r) % 400 == 0):\n",
        " print(\"L'année est bissextile\")\n",
        "else:\n",
        "  print(\"L'année n'est pas bissextile\")\n",
        "  "
      ],
      "execution_count": 53,
      "outputs": [
        {
          "output_type": "stream",
          "text": [
            "Année : 1013\n",
            "L'année n'est pas bissextile\n"
          ],
          "name": "stdout"
        }
      ]
    },
    {
      "cell_type": "code",
      "metadata": {
        "id": "o56uaNEVvGXV",
        "outputId": "0e2273ec-5983-4772-9389-ca2f2089f9e7",
        "colab": {
          "base_uri": "https://localhost:8080/"
        }
      },
      "source": [
        "for i in range(1, 11):\n",
        "  print(i)\n"
      ],
      "execution_count": 58,
      "outputs": [
        {
          "output_type": "stream",
          "text": [
            "1\n",
            "2\n",
            "3\n",
            "4\n",
            "5\n",
            "6\n",
            "7\n",
            "8\n",
            "9\n",
            "10\n"
          ],
          "name": "stdout"
        }
      ]
    },
    {
      "cell_type": "code",
      "metadata": {
        "id": "OpQF3iZazADL",
        "outputId": "3125c452-4a8d-41e1-d50e-8bebacb1aa7c",
        "colab": {
          "base_uri": "https://localhost:8080/"
        }
      },
      "source": [
        "for i in range(2, 22, 2):\n",
        "  print(i)"
      ],
      "execution_count": 63,
      "outputs": [
        {
          "output_type": "stream",
          "text": [
            "2\n",
            "4\n",
            "6\n",
            "8\n",
            "10\n",
            "12\n",
            "14\n",
            "16\n",
            "18\n",
            "20\n"
          ],
          "name": "stdout"
        }
      ]
    },
    {
      "cell_type": "code",
      "metadata": {
        "id": "sjcVPjN2z3e6",
        "outputId": "b66fcad1-1ac0-4caa-c96d-438e753978ea",
        "colab": {
          "base_uri": "https://localhost:8080/"
        }
      },
      "source": [
        "for a in range(2, 22):\n",
        "  if (a % 2 == 0):\n",
        "    print(a)\n",
        "  elif (a % 2 == 1):\n",
        "    print(\"*Nombre impair*\")"
      ],
      "execution_count": 77,
      "outputs": [
        {
          "output_type": "stream",
          "text": [
            "2\n",
            "*Nombre impair*\n",
            "4\n",
            "*Nombre impair*\n",
            "6\n",
            "*Nombre impair*\n",
            "8\n",
            "*Nombre impair*\n",
            "10\n",
            "*Nombre impair*\n",
            "12\n",
            "*Nombre impair*\n",
            "14\n",
            "*Nombre impair*\n",
            "16\n",
            "*Nombre impair*\n",
            "18\n",
            "*Nombre impair*\n",
            "20\n",
            "*Nombre impair*\n"
          ],
          "name": "stdout"
        }
      ]
    }
  ]
}